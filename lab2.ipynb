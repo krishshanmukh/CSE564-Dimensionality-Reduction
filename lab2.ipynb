{
 "cells": [
  {
   "cell_type": "code",
   "execution_count": 15,
   "metadata": {},
   "outputs": [],
   "source": [
    "import numpy as np\n",
    "import pandas as pd"
   ]
  },
  {
   "cell_type": "code",
   "execution_count": 16,
   "metadata": {},
   "outputs": [],
   "source": [
    "data = pd.read_csv('winequalityN.csv')"
   ]
  },
  {
   "cell_type": "code",
   "execution_count": 17,
   "metadata": {},
   "outputs": [],
   "source": [
    "data.head()\n",
    "data = data.sample(1000)"
   ]
  },
  {
   "cell_type": "code",
   "execution_count": 18,
   "metadata": {},
   "outputs": [
    {
     "data": {
      "text/plain": [
       "type                    0\n",
       "fixed acidity           0\n",
       "volatile acidity        0\n",
       "citric acid             0\n",
       "residual sugar          0\n",
       "chlorides               0\n",
       "free sulfur dioxide     0\n",
       "total sulfur dioxide    0\n",
       "density                 0\n",
       "pH                      0\n",
       "sulphates               0\n",
       "alcohol                 0\n",
       "quality                 0\n",
       "dtype: int64"
      ]
     },
     "execution_count": 18,
     "metadata": {},
     "output_type": "execute_result"
    }
   ],
   "source": [
    "data.dropna(inplace=True)\n",
    "data.isna().sum()"
   ]
  },
  {
   "cell_type": "code",
   "execution_count": 19,
   "metadata": {},
   "outputs": [
    {
     "data": {
      "text/plain": [
       "995"
      ]
     },
     "execution_count": 19,
     "metadata": {},
     "output_type": "execute_result"
    }
   ],
   "source": [
    "len(data)"
   ]
  },
  {
   "cell_type": "markdown",
   "metadata": {},
   "source": [
    "# One hot encoding "
   ]
  },
  {
   "cell_type": "code",
   "execution_count": 20,
   "metadata": {},
   "outputs": [
    {
     "data": {
      "text/plain": [
       "type                      2\n",
       "fixed acidity            80\n",
       "volatile acidity        110\n",
       "citric acid              76\n",
       "residual sugar          200\n",
       "chlorides               116\n",
       "free sulfur dioxide      87\n",
       "total sulfur dioxide    227\n",
       "density                 473\n",
       "pH                       84\n",
       "sulphates                75\n",
       "alcohol                  70\n",
       "quality                   7\n",
       "dtype: int64"
      ]
     },
     "execution_count": 20,
     "metadata": {},
     "output_type": "execute_result"
    }
   ],
   "source": [
    "data.nunique()"
   ]
  },
  {
   "cell_type": "code",
   "execution_count": null,
   "metadata": {},
   "outputs": [],
   "source": []
  },
  {
   "cell_type": "code",
   "execution_count": 21,
   "metadata": {},
   "outputs": [],
   "source": [
    "# Define a dictionary for the target mapping\n",
    "target_map = {'white':1, 'red':0}\n",
    "# Use the pandas apply method to numerically encode our attrition target variable\n",
    "data[\"type\"] = data[\"type\"].apply(lambda x: target_map[x])"
   ]
  },
  {
   "cell_type": "code",
   "execution_count": 22,
   "metadata": {},
   "outputs": [
    {
     "data": {
      "text/html": [
       "<div>\n",
       "<style scoped>\n",
       "    .dataframe tbody tr th:only-of-type {\n",
       "        vertical-align: middle;\n",
       "    }\n",
       "\n",
       "    .dataframe tbody tr th {\n",
       "        vertical-align: top;\n",
       "    }\n",
       "\n",
       "    .dataframe thead th {\n",
       "        text-align: right;\n",
       "    }\n",
       "</style>\n",
       "<table border=\"1\" class=\"dataframe\">\n",
       "  <thead>\n",
       "    <tr style=\"text-align: right;\">\n",
       "      <th></th>\n",
       "      <th>type</th>\n",
       "      <th>fixed acidity</th>\n",
       "      <th>volatile acidity</th>\n",
       "      <th>citric acid</th>\n",
       "      <th>residual sugar</th>\n",
       "      <th>chlorides</th>\n",
       "      <th>free sulfur dioxide</th>\n",
       "      <th>total sulfur dioxide</th>\n",
       "      <th>density</th>\n",
       "      <th>pH</th>\n",
       "      <th>sulphates</th>\n",
       "      <th>alcohol</th>\n",
       "      <th>quality</th>\n",
       "    </tr>\n",
       "  </thead>\n",
       "  <tbody>\n",
       "    <tr>\n",
       "      <th>1164</th>\n",
       "      <td>1</td>\n",
       "      <td>8.2</td>\n",
       "      <td>0.230</td>\n",
       "      <td>0.49</td>\n",
       "      <td>0.9</td>\n",
       "      <td>0.057</td>\n",
       "      <td>15.0</td>\n",
       "      <td>73.0</td>\n",
       "      <td>0.99280</td>\n",
       "      <td>3.07</td>\n",
       "      <td>0.38</td>\n",
       "      <td>10.4</td>\n",
       "      <td>6</td>\n",
       "    </tr>\n",
       "    <tr>\n",
       "      <th>5428</th>\n",
       "      <td>0</td>\n",
       "      <td>9.1</td>\n",
       "      <td>0.220</td>\n",
       "      <td>0.24</td>\n",
       "      <td>2.1</td>\n",
       "      <td>0.078</td>\n",
       "      <td>1.0</td>\n",
       "      <td>28.0</td>\n",
       "      <td>0.99900</td>\n",
       "      <td>3.41</td>\n",
       "      <td>0.87</td>\n",
       "      <td>10.3</td>\n",
       "      <td>6</td>\n",
       "    </tr>\n",
       "    <tr>\n",
       "      <th>4130</th>\n",
       "      <td>1</td>\n",
       "      <td>6.8</td>\n",
       "      <td>0.290</td>\n",
       "      <td>0.32</td>\n",
       "      <td>1.8</td>\n",
       "      <td>0.032</td>\n",
       "      <td>18.0</td>\n",
       "      <td>130.0</td>\n",
       "      <td>0.99095</td>\n",
       "      <td>3.05</td>\n",
       "      <td>0.62</td>\n",
       "      <td>11.2</td>\n",
       "      <td>6</td>\n",
       "    </tr>\n",
       "    <tr>\n",
       "      <th>5940</th>\n",
       "      <td>0</td>\n",
       "      <td>8.9</td>\n",
       "      <td>0.500</td>\n",
       "      <td>0.21</td>\n",
       "      <td>2.2</td>\n",
       "      <td>0.088</td>\n",
       "      <td>21.0</td>\n",
       "      <td>39.0</td>\n",
       "      <td>0.99692</td>\n",
       "      <td>3.33</td>\n",
       "      <td>0.83</td>\n",
       "      <td>11.1</td>\n",
       "      <td>6</td>\n",
       "    </tr>\n",
       "    <tr>\n",
       "      <th>3601</th>\n",
       "      <td>1</td>\n",
       "      <td>6.6</td>\n",
       "      <td>0.295</td>\n",
       "      <td>0.24</td>\n",
       "      <td>1.6</td>\n",
       "      <td>0.039</td>\n",
       "      <td>29.0</td>\n",
       "      <td>140.0</td>\n",
       "      <td>0.99304</td>\n",
       "      <td>3.35</td>\n",
       "      <td>0.61</td>\n",
       "      <td>10.4</td>\n",
       "      <td>7</td>\n",
       "    </tr>\n",
       "  </tbody>\n",
       "</table>\n",
       "</div>"
      ],
      "text/plain": [
       "      type  fixed acidity  volatile acidity  citric acid  residual sugar  \\\n",
       "1164     1            8.2             0.230         0.49             0.9   \n",
       "5428     0            9.1             0.220         0.24             2.1   \n",
       "4130     1            6.8             0.290         0.32             1.8   \n",
       "5940     0            8.9             0.500         0.21             2.2   \n",
       "3601     1            6.6             0.295         0.24             1.6   \n",
       "\n",
       "      chlorides  free sulfur dioxide  total sulfur dioxide  density    pH  \\\n",
       "1164      0.057                 15.0                  73.0  0.99280  3.07   \n",
       "5428      0.078                  1.0                  28.0  0.99900  3.41   \n",
       "4130      0.032                 18.0                 130.0  0.99095  3.05   \n",
       "5940      0.088                 21.0                  39.0  0.99692  3.33   \n",
       "3601      0.039                 29.0                 140.0  0.99304  3.35   \n",
       "\n",
       "      sulphates  alcohol  quality  \n",
       "1164       0.38     10.4        6  \n",
       "5428       0.87     10.3        6  \n",
       "4130       0.62     11.2        6  \n",
       "5940       0.83     11.1        6  \n",
       "3601       0.61     10.4        7  "
      ]
     },
     "execution_count": 22,
     "metadata": {},
     "output_type": "execute_result"
    }
   ],
   "source": [
    "data.head()"
   ]
  },
  {
   "cell_type": "markdown",
   "metadata": {},
   "source": [
    "# K Means Clustering"
   ]
  },
  {
   "cell_type": "code",
   "execution_count": 23,
   "metadata": {},
   "outputs": [],
   "source": [
    "# clustering dataset\n",
    "# determine k using elbow method\n",
    "\n",
    "from sklearn.cluster import KMeans\n",
    "from sklearn import metrics\n",
    "from scipy.spatial.distance import cdist\n",
    "import matplotlib.pyplot as plt\n",
    "from sklearn.preprocessing import scale"
   ]
  },
  {
   "cell_type": "code",
   "execution_count": 24,
   "metadata": {},
   "outputs": [],
   "source": [
    "# Do minmax scaling\n",
    "# min_max_scaler = MinMaxScaler()\n",
    "data_columns = data.columns"
   ]
  },
  {
   "cell_type": "code",
   "execution_count": 27,
   "metadata": {},
   "outputs": [],
   "source": [
    "data\n",
    "data.to_csv(\"original_data.csv\", index=False)"
   ]
  },
  {
   "cell_type": "code",
   "execution_count": 28,
   "metadata": {},
   "outputs": [
    {
     "data": {
      "image/png": "[encoded data removed]",
      "text/plain": [
       "<Figure size 432x288 with 1 Axes>"
      ]
     },
     "metadata": {
      "needs_background": "light"
     },
     "output_type": "display_data"
    }
   ],
   "source": [
    "# create new plot and data\n",
    "plt.plot()\n",
    "X = np.array(scale(data))\n",
    "colors = ['b', 'g', 'r']\n",
    "markers = ['o', 'v', 's']\n",
    "\n",
    "# k means determine k\n",
    "distortions = []\n",
    "K = range(1,20)\n",
    "for k in K:\n",
    "    kmeanModel = KMeans(n_clusters=k).fit(X)\n",
    "    kmeanModel.fit(X)\n",
    "    distortions.append(kmeanModel.inertia_)\n",
    "\n",
    "# Plot the elbow\n",
    "plt.plot(K, distortions, 'bx-')\n",
    "plt.xlabel('k')\n",
    "plt.ylim(0,16000)\n",
    "plt.ylabel('Distortion')\n",
    "plt.title('The Elbow Method showing the optimal k')\n",
    "plt.show()"
   ]
  },
  {
   "cell_type": "code",
   "execution_count": 92,
   "metadata": {},
   "outputs": [
    {
     "data": {
      "text/plain": [
       "KMeans(algorithm='auto', copy_x=True, init='k-means++', max_iter=300,\n",
       "       n_clusters=5, n_init=10, n_jobs=None, precompute_distances='auto',\n",
       "       random_state=None, tol=0.0001, verbose=0)"
      ]
     },
     "execution_count": 92,
     "metadata": {},
     "output_type": "execute_result"
    }
   ],
   "source": [
    "kmeanModel = KMeans(n_clusters=5).fit(X)\n",
    "kmeanModel.fit(X)"
   ]
  },
  {
   "cell_type": "code",
   "execution_count": 93,
   "metadata": {},
   "outputs": [],
   "source": [
    "# Add cluster to the df\n",
    "data['cluster'] = kmeanModel.fit_predict(X)"
   ]
  },
  {
   "cell_type": "code",
   "execution_count": 94,
   "metadata": {},
   "outputs": [
    {
     "data": {
      "text/html": [
       "<div>\n",
       "<style scoped>\n",
       "    .dataframe tbody tr th:only-of-type {\n",
       "        vertical-align: middle;\n",
       "    }\n",
       "\n",
       "    .dataframe tbody tr th {\n",
       "        vertical-align: top;\n",
       "    }\n",
       "\n",
       "    .dataframe thead th {\n",
       "        text-align: right;\n",
       "    }\n",
       "</style>\n",
       "<table border=\"1\" class=\"dataframe\">\n",
       "  <thead>\n",
       "    <tr style=\"text-align: right;\">\n",
       "      <th></th>\n",
       "      <th>type</th>\n",
       "      <th>fixed acidity</th>\n",
       "      <th>volatile acidity</th>\n",
       "      <th>citric acid</th>\n",
       "      <th>residual sugar</th>\n",
       "      <th>chlorides</th>\n",
       "      <th>free sulfur dioxide</th>\n",
       "      <th>total sulfur dioxide</th>\n",
       "      <th>density</th>\n",
       "      <th>pH</th>\n",
       "      <th>sulphates</th>\n",
       "      <th>alcohol</th>\n",
       "      <th>quality</th>\n",
       "      <th>cluster</th>\n",
       "    </tr>\n",
       "  </thead>\n",
       "  <tbody>\n",
       "    <tr>\n",
       "      <th>3867</th>\n",
       "      <td>1</td>\n",
       "      <td>7.3</td>\n",
       "      <td>0.25</td>\n",
       "      <td>0.26</td>\n",
       "      <td>7.2</td>\n",
       "      <td>0.048</td>\n",
       "      <td>52.0</td>\n",
       "      <td>207.0</td>\n",
       "      <td>0.99587</td>\n",
       "      <td>3.12</td>\n",
       "      <td>0.37</td>\n",
       "      <td>9.2</td>\n",
       "      <td>5</td>\n",
       "      <td>3</td>\n",
       "    </tr>\n",
       "    <tr>\n",
       "      <th>6063</th>\n",
       "      <td>0</td>\n",
       "      <td>8.5</td>\n",
       "      <td>0.44</td>\n",
       "      <td>0.50</td>\n",
       "      <td>1.9</td>\n",
       "      <td>0.369</td>\n",
       "      <td>15.0</td>\n",
       "      <td>38.0</td>\n",
       "      <td>0.99634</td>\n",
       "      <td>3.01</td>\n",
       "      <td>1.10</td>\n",
       "      <td>9.4</td>\n",
       "      <td>5</td>\n",
       "      <td>1</td>\n",
       "    </tr>\n",
       "    <tr>\n",
       "      <th>1086</th>\n",
       "      <td>1</td>\n",
       "      <td>5.2</td>\n",
       "      <td>0.24</td>\n",
       "      <td>0.45</td>\n",
       "      <td>3.8</td>\n",
       "      <td>0.027</td>\n",
       "      <td>21.0</td>\n",
       "      <td>128.0</td>\n",
       "      <td>0.99200</td>\n",
       "      <td>3.55</td>\n",
       "      <td>0.49</td>\n",
       "      <td>11.2</td>\n",
       "      <td>8</td>\n",
       "      <td>0</td>\n",
       "    </tr>\n",
       "    <tr>\n",
       "      <th>718</th>\n",
       "      <td>1</td>\n",
       "      <td>6.2</td>\n",
       "      <td>0.21</td>\n",
       "      <td>0.27</td>\n",
       "      <td>1.7</td>\n",
       "      <td>0.038</td>\n",
       "      <td>41.0</td>\n",
       "      <td>150.0</td>\n",
       "      <td>0.99330</td>\n",
       "      <td>3.49</td>\n",
       "      <td>0.71</td>\n",
       "      <td>10.5</td>\n",
       "      <td>7</td>\n",
       "      <td>0</td>\n",
       "    </tr>\n",
       "    <tr>\n",
       "      <th>1282</th>\n",
       "      <td>1</td>\n",
       "      <td>7.4</td>\n",
       "      <td>0.31</td>\n",
       "      <td>0.74</td>\n",
       "      <td>10.7</td>\n",
       "      <td>0.039</td>\n",
       "      <td>51.0</td>\n",
       "      <td>147.0</td>\n",
       "      <td>0.99770</td>\n",
       "      <td>3.02</td>\n",
       "      <td>0.43</td>\n",
       "      <td>8.7</td>\n",
       "      <td>5</td>\n",
       "      <td>3</td>\n",
       "    </tr>\n",
       "  </tbody>\n",
       "</table>\n",
       "</div>"
      ],
      "text/plain": [
       "      type  fixed acidity  volatile acidity  citric acid  residual sugar  \\\n",
       "3867     1            7.3              0.25         0.26             7.2   \n",
       "6063     0            8.5              0.44         0.50             1.9   \n",
       "1086     1            5.2              0.24         0.45             3.8   \n",
       "718      1            6.2              0.21         0.27             1.7   \n",
       "1282     1            7.4              0.31         0.74            10.7   \n",
       "\n",
       "      chlorides  free sulfur dioxide  total sulfur dioxide  density    pH  \\\n",
       "3867      0.048                 52.0                 207.0  0.99587  3.12   \n",
       "6063      0.369                 15.0                  38.0  0.99634  3.01   \n",
       "1086      0.027                 21.0                 128.0  0.99200  3.55   \n",
       "718       0.038                 41.0                 150.0  0.99330  3.49   \n",
       "1282      0.039                 51.0                 147.0  0.99770  3.02   \n",
       "\n",
       "      sulphates  alcohol  quality  cluster  \n",
       "3867       0.37      9.2        5        3  \n",
       "6063       1.10      9.4        5        1  \n",
       "1086       0.49     11.2        8        0  \n",
       "718        0.71     10.5        7        0  \n",
       "1282       0.43      8.7        5        3  "
      ]
     },
     "execution_count": 94,
     "metadata": {},
     "output_type": "execute_result"
    }
   ],
   "source": [
    "data.head()"
   ]
  },
  {
   "cell_type": "markdown",
   "metadata": {},
   "source": [
    "# Random Sampling"
   ]
  },
  {
   "cell_type": "code",
   "execution_count": 95,
   "metadata": {},
   "outputs": [],
   "source": [
    "random_sample = data.sample(frac=0.25)"
   ]
  },
  {
   "cell_type": "code",
   "execution_count": 96,
   "metadata": {},
   "outputs": [
    {
     "data": {
      "text/plain": [
       "(249, 14)"
      ]
     },
     "execution_count": 96,
     "metadata": {},
     "output_type": "execute_result"
    }
   ],
   "source": [
    "len(random_sample), len(random_sample.columns)"
   ]
  },
  {
   "cell_type": "code",
   "execution_count": 97,
   "metadata": {},
   "outputs": [],
   "source": [
    "random_sample.drop(['cluster'], axis=1, inplace=True)"
   ]
  },
  {
   "cell_type": "code",
   "execution_count": 98,
   "metadata": {},
   "outputs": [],
   "source": [
    "random_sample.to_csv(\"random_sample.csv\", index=False)"
   ]
  },
  {
   "cell_type": "markdown",
   "metadata": {},
   "source": [
    "# Save the clustered sample"
   ]
  },
  {
   "cell_type": "code",
   "execution_count": 99,
   "metadata": {},
   "outputs": [],
   "source": [
    "cluster_sample = data"
   ]
  },
  {
   "cell_type": "code",
   "execution_count": 100,
   "metadata": {},
   "outputs": [],
   "source": [
    "cluster_sample = cluster_sample.groupby('cluster').apply(lambda x: x.sample(frac=0.25))"
   ]
  },
  {
   "cell_type": "code",
   "execution_count": 101,
   "metadata": {},
   "outputs": [],
   "source": [
    "cluster_sample.drop(['cluster'], axis=1, inplace=True)\n",
    "cluster_sample = cluster_sample.reset_index()\n",
    "cluster_sample.drop(['cluster', 'level_1'], axis=1, inplace=True)"
   ]
  },
  {
   "cell_type": "code",
   "execution_count": 102,
   "metadata": {},
   "outputs": [
    {
     "data": {
      "text/plain": [
       "(248, (248, 13))"
      ]
     },
     "execution_count": 102,
     "metadata": {},
     "output_type": "execute_result"
    }
   ],
   "source": [
    "len(cluster_sample), cluster_sample.shape\n",
    "# cluster_sample.head()"
   ]
  },
  {
   "cell_type": "code",
   "execution_count": 103,
   "metadata": {},
   "outputs": [],
   "source": [
    "cluster_sample.to_csv(\"cluster_sample.csv\", index=False)"
   ]
  },
  {
   "cell_type": "markdown",
   "metadata": {},
   "source": [
    "# Insert Original Sample"
   ]
  },
  {
   "cell_type": "code",
   "execution_count": 39,
   "metadata": {},
   "outputs": [],
   "source": [
    "data.drop(['cluster'], axis = 1, inplace=True)"
   ]
  },
  {
   "cell_type": "code",
   "execution_count": 40,
   "metadata": {},
   "outputs": [],
   "source": [
    "data.to_csv(\"original_sample.csv\", index=False)"
   ]
  },
  {
   "cell_type": "code",
   "execution_count": null,
   "metadata": {},
   "outputs": [],
   "source": []
  },
  {
   "cell_type": "markdown",
   "metadata": {},
   "source": [
    "# PCA"
   ]
  },
  {
   "cell_type": "code",
   "execution_count": 41,
   "metadata": {},
   "outputs": [],
   "source": [
    "from sklearn.decomposition import PCA\n",
    "from sklearn.preprocessing import StandardScaler"
   ]
  },
  {
   "cell_type": "code",
   "execution_count": 42,
   "metadata": {},
   "outputs": [],
   "source": [
    "def do_pca(data, n_components):\n",
    "    my_model = PCA()\n",
    "    my_model.fit_transform(StandardScaler().fit_transform(data))\n",
    "    print(my_model.explained_variance_)\n",
    "    print(my_model.explained_variance_ratio_)\n",
    "    print(my_model.explained_variance_ratio_.cumsum())\n",
    "    return my_model"
   ]
  },
  {
   "cell_type": "code",
   "execution_count": 43,
   "metadata": {},
   "outputs": [
    {
     "data": {
      "image/png": "[encoded data removed]",
      "text/plain": [
       "<Figure size 432x288 with 1 Axes>"
      ]
     },
     "metadata": {
      "needs_background": "light"
     },
     "output_type": "display_data"
    }
   ],
   "source": [
    "data = pd.read_csv(\"original_sample.csv\")\n",
    "my_model = PCA()\n",
    "my_model.fit_transform(StandardScaler().fit_transform(data))\n",
    "y = my_model.explained_variance_ratio_ * 100\n",
    "\n",
    "# Plot the elbow\n",
    "plt.plot([i for i in range(0, len(data.columns))], y, 'bx-')\n",
    "plt.xlabel('component')\n",
    "plt.ylabel('Variance')\n",
    "plt.title('The Elbow Method showing the optimal k')\n",
    "plt.show()"
   ]
  },
  {
   "cell_type": "code",
   "execution_count": 44,
   "metadata": {},
   "outputs": [
    {
     "name": "stdout",
     "output_type": "stream",
     "text": [
      "[4.31165125 2.76538045 1.66778771 1.13539787 0.73076621 0.59692114\n",
      " 0.46298553 0.44291963 0.39197411 0.24781731 0.21537999 0.09800336\n",
      " 0.01426542]\n",
      "[0.32960545 0.21140032 0.12749452 0.08679582 0.05586364 0.04563181\n",
      " 0.03539306 0.03385912 0.02996458 0.01894447 0.01646479 0.0074919\n",
      " 0.00109052]\n",
      "[0.32960545 0.54100577 0.66850029 0.75529611 0.81115975 0.85679156\n",
      " 0.89218463 0.92604375 0.95600833 0.97495279 0.99141758 0.99890948\n",
      " 1.        ]\n"
     ]
    }
   ],
   "source": [
    "data = pd.read_csv(\"cluster_sample.csv\")\n",
    "# do_pca(data, len(data.columns))\n",
    "pca = do_pca(data, 10)"
   ]
  },
  {
   "cell_type": "code",
   "execution_count": 45,
   "metadata": {},
   "outputs": [
    {
     "name": "stdout",
     "output_type": "stream",
     "text": [
      "[[3.33871495e-05 8.36897572e-05 2.09832852e-06 2.77383543e-07\n",
      "  2.40740949e-03 4.01013271e-08 4.62431135e-02 9.51209956e-01\n",
      "  1.16140127e-12 3.17596165e-07 6.00902730e-07 1.70256032e-05\n",
      "  2.08466274e-06]\n",
      " [7.98929577e-07 1.22142497e-04 1.85455367e-06 9.86151556e-07\n",
      "  4.73401077e-03 8.75113880e-08 9.49735220e-01 4.47092732e-02\n",
      "  3.55450121e-09 6.20836432e-06 2.38088990e-06 4.40405775e-04\n",
      "  2.46627468e-04]\n",
      " [6.60447137e-05 2.55187775e-03 8.77870828e-06 3.33324304e-06\n",
      "  9.79394973e-01 6.90600710e-07 3.52954796e-03 3.93628929e-03\n",
      "  2.23985873e-07 2.79787703e-04 1.84826412e-06 9.46331783e-03\n",
      "  7.63287192e-04]\n",
      " [8.96825907e-03 5.38797814e-01 7.55485746e-04 9.00771865e-04\n",
      "  1.09315031e-02 4.67180030e-05 4.05272162e-04 4.14997523e-05\n",
      "  1.83908924e-06 7.90228196e-04 1.00613267e-04 3.13010615e-01\n",
      "  1.25249380e-01]] [9.0684900e-03 5.4155552e-01 7.6821732e-04 9.0536865e-04 9.9746788e-01\n",
      " 4.7536218e-05 9.9991316e-01 9.9989700e-01 2.0666307e-06 1.0765418e-03\n",
      " 1.0544332e-04 3.2293135e-01 1.2626138e-01]\n",
      "Index(['free sulfur dioxide', 'total sulfur dioxide', 'residual sugar'], dtype='object')\n",
      "\n"
     ]
    },
    {
     "name": "stderr",
     "output_type": "stream",
     "text": [
      "/Users/krishshanmukh/Desktop/SBU/Visualization/Lab2/venv/lib/python3.7/site-packages/pandas/core/indexes/base.py:3941: FutureWarning: Using a non-tuple sequence for multidimensional indexing is deprecated; use `arr[tuple(seq)]` instead of `arr[seq]`. In the future this will be interpreted as an array index, `arr[np.array(seq)]`, which will result either in an error or a different result.\n",
      "  result = getitem(key)\n"
     ]
    }
   ],
   "source": [
    "# PCA loadings\n",
    "mymodel = PCA(n_components=4)\n",
    "pca_loadings = mymodel.fit(data)\n",
    "pca_results = mymodel.explained_variance_ratio_\n",
    "loadings = np.sum(np.square(mymodel.components_), axis = 0, dtype=np.float32)\n",
    "print(np.square(mymodel.components_), loadings)\n",
    "print(data.columns[[loadings.argsort()[-3:][::-1]]])\n",
    "print()"
   ]
  },
  {
   "cell_type": "code",
   "execution_count": 46,
   "metadata": {},
   "outputs": [],
   "source": [
    "def pca(data):\n",
    "    my_model = PCA(n_components=2)\n",
    "    X_pca=my_model.fit_transform(StandardScaler().fit_transform(data)) \n",
    "    Xax=X_pca[:,0]\n",
    "    Yax=X_pca[:,1]\n",
    "    fig,ax=plt.subplots(figsize=(7,5))\n",
    "    fig.patch.set_facecolor('white')\n",
    "    ax.scatter(Xax,Yax)# for loop endsplt.xlabel(\"First Principal Component\",fontsize=14)\n",
    "    plt.ylabel(\"Second Principal Component\",fontsize=14)\n",
    "    plt.xlabel(\"First Principal Component\",fontsize=14)\n",
    "    plt.legend()\n",
    "    plt.show()# please check the scatter plot of the remaining component and you will understand the difference"
   ]
  },
  {
   "cell_type": "code",
   "execution_count": 47,
   "metadata": {},
   "outputs": [
    {
     "name": "stderr",
     "output_type": "stream",
     "text": [
      "No handles with labels found to put in legend.\n"
     ]
    },
    {
     "data": {
      "image/png": "[encoded data removed]",
      "text/plain": [
       "<Figure size 504x360 with 1 Axes>"
      ]
     },
     "metadata": {
      "needs_background": "light"
     },
     "output_type": "display_data"
    }
   ],
   "source": [
    "data = pd.read_csv(\"cluster_sample.csv\")\n",
    "# data.drop([\"cluster.1\"], axis=1, inplace=True)\n",
    "data.head()\n",
    "\n",
    "my_model = PCA(n_components=2)\n",
    "X_pca=my_model.fit_transform(StandardScaler().fit_transform(data)) \n",
    "Xax=X_pca[:,0]\n",
    "Yax=X_pca[:,1]\n",
    "fig,ax=plt.subplots(figsize=(7,5))\n",
    "# fig.patch.set_facecolor('white')\n",
    "targets = [i for i in range(0,9)]\n",
    "colors = ['r', 'b', 'g', 'orange', 'black', 'pink', 'violet', 'indigo', 'yellow']\n",
    "# for target, color in zip(targets,colors):\n",
    "#     indicesToKeep = data['cluster'] == target\n",
    "#     ax.scatter(Xax[indicesToKeep]\n",
    "#                , Yax[indicesToKeep]\n",
    "#                , c = color\n",
    "#                , s = 50)\n",
    "ax.scatter(Xax,Yax)# for loop endsplt.xlabel(\"First Principal Component\",fontsize=14)\n",
    "plt.ylabel(\"Second Principal Component\",fontsize=14)\n",
    "plt.xlabel(\"First Principal Component\",fontsize=14)\n",
    "plt.legend()\n",
    "plt.show()# plea\n",
    "\n",
    "# do_pca(data, len(data.columns))\n",
    "# pca(data)"
   ]
  },
  {
   "cell_type": "code",
   "execution_count": 48,
   "metadata": {},
   "outputs": [
    {
     "name": "stderr",
     "output_type": "stream",
     "text": [
      "No handles with labels found to put in legend.\n"
     ]
    },
    {
     "data": {
      "image/png": "[encoded data removed]",
      "text/plain": [
       "<Figure size 504x360 with 1 Axes>"
      ]
     },
     "metadata": {},
     "output_type": "display_data"
    }
   ],
   "source": [
    "data = pd.read_csv(\"random_sample.csv\")\n",
    "# do_pca(data, len(data.columns))\n",
    "pca(data)"
   ]
  },
  {
   "cell_type": "code",
   "execution_count": 49,
   "metadata": {},
   "outputs": [
    {
     "name": "stderr",
     "output_type": "stream",
     "text": [
      "No handles with labels found to put in legend.\n"
     ]
    },
    {
     "data": {
      "image/png": "[encoded data removed]",
      "text/plain": [
       "<Figure size 504x360 with 1 Axes>"
      ]
     },
     "metadata": {},
     "output_type": "display_data"
    }
   ],
   "source": [
    "data = pd.read_csv(\"original_sample.csv\")\n",
    "# do_pca(data, len(data.columns))\n",
    "pca(data)"
   ]
  },
  {
   "cell_type": "code",
   "execution_count": null,
   "metadata": {},
   "outputs": [],
   "source": []
  }
 ],
 "metadata": {
  "kernelspec": {
   "display_name": "Python 3",
   "language": "python",
   "name": "python3"
  },
  "language_info": {
   "codemirror_mode": {
    "name": "ipython",
    "version": 3
   },
   "file_extension": ".py",
   "mimetype": "text/x-python",
   "name": "python",
   "nbconvert_exporter": "python",
   "pygments_lexer": "ipython3",
   "version": "3.7.4"
  }
 },
 "nbformat": 4,
 "nbformat_minor": 4
}
